{
 "metadata": {
  "language_info": {
   "codemirror_mode": {
    "name": "ipython",
    "version": 3
   },
   "file_extension": ".py",
   "mimetype": "text/x-python",
   "name": "python",
   "nbconvert_exporter": "python",
   "pygments_lexer": "ipython3",
   "version": "3.7.6-final"
  },
  "orig_nbformat": 2,
  "kernelspec": {
   "name": "python37664bitanaconda3virtualenveb59970868c043aa8a874df09ec342a6",
   "display_name": "Python 3.7.6 64-bit ('anaconda3': virtualenv)"
  }
 },
 "nbformat": 4,
 "nbformat_minor": 2,
 "cells": [
  {
   "cell_type": "code",
   "execution_count": 1,
   "metadata": {},
   "outputs": [],
   "source": [
    "import numpy as np\n",
    "import matplotlib.pyplot as plt\n",
    "import random"
   ]
  },
  {
   "cell_type": "code",
   "execution_count": 11,
   "metadata": {},
   "outputs": [
    {
     "output_type": "error",
     "ename": "TypeError",
     "evalue": "'int' object is not callable",
     "traceback": [
      "\u001b[0;31m---------------------------------------------------------------------------\u001b[0m",
      "\u001b[0;31mTypeError\u001b[0m                                 Traceback (most recent call last)",
      "\u001b[0;32m<ipython-input-11-fcfd2815c66a>\u001b[0m in \u001b[0;36m<module>\u001b[0;34m\u001b[0m\n\u001b[1;32m     34\u001b[0m             \u001b[0mnum_kn\u001b[0m\u001b[0;34m.\u001b[0m\u001b[0mappend\u001b[0m\u001b[0;34m(\u001b[0m\u001b[0;36m0\u001b[0m\u001b[0;34m)\u001b[0m\u001b[0;34m\u001b[0m\u001b[0;34m\u001b[0m\u001b[0m\n\u001b[1;32m     35\u001b[0m             \u001b[0mdist\u001b[0m\u001b[0;34m.\u001b[0m\u001b[0mappend\u001b[0m\u001b[0;34m(\u001b[0m\u001b[0;34m(\u001b[0m\u001b[0mpoint\u001b[0m\u001b[0;34m[\u001b[0m\u001b[0;36m0\u001b[0m\u001b[0;34m]\u001b[0m \u001b[0;34m-\u001b[0m \u001b[0mk_point\u001b[0m\u001b[0;34m[\u001b[0m\u001b[0;36m0\u001b[0m\u001b[0;34m]\u001b[0m\u001b[0;34m)\u001b[0m\u001b[0;34m*\u001b[0m\u001b[0;34m(\u001b[0m\u001b[0mpoint\u001b[0m\u001b[0;34m[\u001b[0m\u001b[0;36m0\u001b[0m\u001b[0;34m]\u001b[0m \u001b[0;34m-\u001b[0m \u001b[0mk_point\u001b[0m\u001b[0;34m[\u001b[0m\u001b[0;36m0\u001b[0m\u001b[0;34m]\u001b[0m\u001b[0;34m)\u001b[0m \u001b[0;34m+\u001b[0m \u001b[0;34m(\u001b[0m\u001b[0mpoint\u001b[0m\u001b[0;34m[\u001b[0m\u001b[0;36m1\u001b[0m\u001b[0;34m]\u001b[0m \u001b[0;34m-\u001b[0m \u001b[0mk_point\u001b[0m\u001b[0;34m[\u001b[0m\u001b[0;36m1\u001b[0m\u001b[0;34m]\u001b[0m\u001b[0;34m)\u001b[0m\u001b[0;34m*\u001b[0m\u001b[0;34m(\u001b[0m\u001b[0mpoint\u001b[0m\u001b[0;34m[\u001b[0m\u001b[0;36m1\u001b[0m\u001b[0;34m]\u001b[0m \u001b[0;34m-\u001b[0m \u001b[0mk_point\u001b[0m\u001b[0;34m[\u001b[0m\u001b[0;36m1\u001b[0m\u001b[0;34m]\u001b[0m\u001b[0;34m)\u001b[0m\u001b[0;34m)\u001b[0m\u001b[0;34m\u001b[0m\u001b[0;34m\u001b[0m\u001b[0m\n\u001b[0;32m---> 36\u001b[0;31m         \u001b[0mmax\u001b[0m \u001b[0;34m=\u001b[0m \u001b[0mdist\u001b[0m\u001b[0;34m.\u001b[0m\u001b[0mindex\u001b[0m\u001b[0;34m(\u001b[0m\u001b[0mmax\u001b[0m\u001b[0;34m(\u001b[0m\u001b[0mdist\u001b[0m\u001b[0;34m)\u001b[0m\u001b[0;34m)\u001b[0m\u001b[0;34m\u001b[0m\u001b[0;34m\u001b[0m\u001b[0m\n\u001b[0m\u001b[1;32m     37\u001b[0m         \u001b[0mnext_k\u001b[0m\u001b[0;34m[\u001b[0m\u001b[0mmax\u001b[0m\u001b[0;34m]\u001b[0m \u001b[0;34m=\u001b[0m \u001b[0mpython_list_add\u001b[0m\u001b[0;34m(\u001b[0m\u001b[0mnext_k\u001b[0m\u001b[0;34m,\u001b[0m \u001b[0mpoint\u001b[0m\u001b[0;34m)\u001b[0m\u001b[0;34m\u001b[0m\u001b[0;34m\u001b[0m\u001b[0m\n\u001b[1;32m     38\u001b[0m         \u001b[0mnum_kn\u001b[0m\u001b[0;34m[\u001b[0m\u001b[0mmax\u001b[0m\u001b[0;34m]\u001b[0m \u001b[0;34m+=\u001b[0m \u001b[0;36m1\u001b[0m\u001b[0;34m\u001b[0m\u001b[0;34m\u001b[0m\u001b[0m\n",
      "\u001b[0;31mTypeError\u001b[0m: 'int' object is not callable"
     ]
    }
   ],
   "source": [
    "n = 3\n",
    "\n",
    "# create dataset\n",
    "data = []\n",
    "for i in range(50):\n",
    "    point = [random.uniform(0, 5), random.uniform(0,4)]\n",
    "    data.append(point)\n",
    "\n",
    "for i in range(50):\n",
    "    point = [random.uniform(3, 10), random.uniform(3,10)]\n",
    "    data.append(point)\n",
    "\n",
    "k_points = []\n",
    "\n",
    "#creating start point\n",
    "for i in range(n):\n",
    "    k_point = [random.uniform(0, 10), random.uniform(0, 10)]\n",
    "    k_points.append(point)\n",
    "\n",
    "\n",
    "#training\n",
    "def python_list_add(in1, in2):\n",
    "    wrk = np.array(in1) + np.array(in2)\n",
    "    return wrk.tolist()\n",
    "\n",
    "for i in range(100):\n",
    "    total_dist =0\n",
    "    num_kn = []\n",
    "    next_k = []\n",
    "    for point in data:\n",
    "        dist = []\n",
    "        for k_point in k_points:\n",
    "            next_k.append([0,0])\n",
    "            num_kn.append(0)\n",
    "            dist.append((point[0] - k_point[0])*(point[0] - k_point[0]) + (point[1] - k_point[1])*(point[1] - k_point[1]))\n",
    "        max = dist.index(max(dist))\n",
    "        next_k[max] = python_list_add(next_k, point)\n",
    "        num_kn[max] += 1\n",
    "\n",
    "    for i in len(k_points):\n",
    "        k_point[i][0] = next_k[i][0] / num_kn[i]\n",
    "        k_point[i][1] = next_k[i][1] / num_kn[i]\n",
    "\n",
    "\"\"\"\n",
    "    k1_x = next_k1[0] / num_k1\n",
    "    k1_y = next_k1[1] / num_k1\n",
    "    k2_x = next_k2[0] / num_k2\n",
    "    k2_y = next_k2[1] / num_k2\n",
    "    ss_list.append(total_dist)\n",
    "\n",
    "\n",
    "plot_x = []\n",
    "plot_y = []\n",
    "colourlist = []\n",
    "for point in data:\n",
    "    dist1 = (point[0] - k1_x)*(point[0] - k1_x) + (point[1] - k1_y)*(point[1] - k1_y)\n",
    "    dist2 = (point[0] - k2_x)*(point[0] - k2_x) + (point[1] - k2_y)*(point[1] - k2_y)\n",
    "    if dist1 <= dist2:\n",
    "        plot_x.append(point[0])\n",
    "        plot_y.append(point[1])\n",
    "        colourlist.append(\"c\")\n",
    "    else:\n",
    "        plot_x.append(point[0])\n",
    "        plot_y.append(point[1])\n",
    "        colourlist.append(\"m\")\n",
    "\n",
    "plt.scatter(plot_x, plot_y, color=colourlist)\n",
    "\"\"\""
   ]
  },
  {
   "cell_type": "code",
   "execution_count": 5,
   "metadata": {
    "tags": []
   },
   "outputs": [
    {
     "output_type": "stream",
     "name": "stdout",
     "text": "[[2, 2], [4, 1]]\n[2, 4]\n"
    }
   ],
   "source": []
  },
  {
   "cell_type": "code",
   "execution_count": null,
   "metadata": {},
   "outputs": [],
   "source": []
  }
 ]
}